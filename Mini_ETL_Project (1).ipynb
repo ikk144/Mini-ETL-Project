{
  "nbformat": 4,
  "nbformat_minor": 0,
  "metadata": {
    "kernelspec": {
      "name": "python3",
      "display_name": "Python 3"
    },
    "language_info": {
      "name": "python"
    }
  },
  "cells": [
    {
      "cell_type": "code",
      "execution_count": null,
      "metadata": {},
      "outputs": [],
      "source": [
        "import pandas as pd\n",
        "import numpy as np\n",
        "import sqlite3\n",
        "from datetime import datetime\n",
        "print('Ready ✓')"
      ]
    },
    {
      "cell_type": "code",
      "execution_count": null,
      "metadata": {},
      "outputs": [],
      "source": [
        "def try_parse_date(s: str, formats=None):\n",
        "    \"\"\"يحاول قراءة التاريخ بعدة صيغ ويرجع NaT إذا فشل.\"\"\"\n",
        "    if not isinstance(s, str):\n",
        "        return pd.NaT\n",
        "    if formats is None:\n",
        "        formats = (\"%Y-%m-%d\", \"%Y/%m/%d\", \"%d-%m-%Y\")\n",
        "    for fmt in formats:\n",
        "        try:\n",
        "            return datetime.strptime(s, fmt).date()\n",
        "        except Exception:\n",
        "            pass\n",
        "    return pd.NaT"
      ]
    },
    {
      "cell_type": "code",
      "execution_count": null,
      "metadata": {},
      "outputs": [],
      "source": [
        "def clean_transform(df: pd.DataFrame, \n",
        "                    text_cols=None,\n",
        "                    date_cols=None,\n",
        "                    num_cols=None,\n",
        "                    add_features=False) -> pd.DataFrame:\n",
        "    \"\"\"\n",
        "    تنظيف وتحويل البيانات بشكل عام.\n",
        "    - text_cols: أعمدة نصية يتم تنظيفها.\n",
        "    - date_cols: أعمدة تواريخ يتم تحويلها.\n",
        "    - num_cols: أعمدة رقمية يتم تحويلها لأرقام.\n",
        "    - add_features: لو True يضيف أعمدة مشتقة (مثل year/month).\n",
        "    \"\"\"\n",
        "    df = df.copy()\n",
        "\n",
        "    # تنظيف النصوص\n",
        "    if text_cols:\n",
        "        for col in text_cols:\n",
        "            df[col] = df[col].astype(str).str.strip().str.replace(r\"\\s+\", \" \", regex=True)\n",
        "\n",
        "    # تحويل أرقام\n",
        "    if num_cols:\n",
        "        for col in num_cols:\n",
        "            df[col] = (\n",
        "                df[col].astype(str)\n",
        "                .str.replace(r\"[^\\d\\.\\,]\", \"\", regex=True)\n",
        "                .str.replace(\",\", \"\", regex=False)\n",
        "                .replace({\"\": np.nan})\n",
        "            )\n",
        "            df[col] = pd.to_numeric(df[col], errors=\"coerce\")\n",
        "\n",
        "    # تحويل تواريخ\n",
        "    if date_cols:\n",
        "        for col in date_cols:\n",
        "            df[col] = df[col].apply(try_parse_date)\n",
        "\n",
        "    # إزالة الصفوف الناقصة\n",
        "    df = df.dropna()\n",
        "\n",
        "    # أعمدة مشتقة اختيارية\n",
        "    if add_features and date_cols:\n",
        "        for col in date_cols:\n",
        "            df[f\"{col}_year\"] = pd.to_datetime(df[col]).dt.year\n",
        "            df[f\"{col}_month\"] = pd.to_datetime(df[col]).dt.month\n",
        "\n",
        "    return df"
      ]
    },
    {
      "cell_type": "code",
      "execution_count": null,
      "metadata": {},
      "outputs": [],
      "source": [
        "def summarize(df: pd.DataFrame) -> pd.DataFrame:\n",
        "    return pd.DataFrame({\n",
        "        \"rows\": [len(df)],\n",
        "        \"first_date\": [str(pd.to_datetime(df[col]).min().date()) if len(df) else None for col in df.select_dtypes(include=['datetime64']).columns][0] if any(df.select_dtypes(include=['datetime64']).columns) else None,\n",
        "        \"last_date\": [str(pd.to_datetime(df[col]).max().date()) if len(df) else None for col in df.select_dtypes(include=['datetime64']).columns][0] if any(df.select_dtypes(include=['datetime64']).columns) else None,\n",
        "    })"
      ]
    },
    {
      "cell_type": "code",
      "execution_count": null,
      "metadata": {},
      "outputs": [],
      "source": [
        "# مثال تطبيقي على نفس بيانات المبيعات\n",
        "raw_rows = [\n",
        "    [1,  \"2025-08-31\", \" Phone  X  \", \"2,499.00\",  \"1\",   \"Riyadh\", \"C001\"],\n",
        "    [2,  \"2025/08/31\", \"Headphones\",  \"399.99\",    \"2\",   \"Jeddah\", \"C002\"],\n",
        "    [3,  \"31-08-2025\", \"Charger\",     \"89.5 SAR\",  \"3\",   \"Taif\",   \"C003\"]\n",
        "]\n",
        "raw_df = pd.DataFrame(raw_rows, columns=[\"order_id\",\"date\",\"product\",\"price\",\"quantity\",\"city\",\"customer_id\"])\n",
        "print(\"🔹 Raw Data\")\n",
        "display(raw_df.head())\n",
        "\n",
        "clean_df = clean_transform(raw_df, text_cols=[\"product\",\"city\",\"customer_id\"], date_cols=[\"date\"], num_cols=[\"price\",\"quantity\"], add_features=True)\n",
        "print(\"🔹 Cleaned Data\")\n",
        "display(clean_df.head())\n",
        "print(\"🔹 Summary\")\n",
        "display(summarize(clean_df))"
      ]
    },
    {
      "cell_type": "code",
      "execution_count": null,
      "metadata": {},
      "outputs": [],
      "source": [
        "# تخزين في SQLite\n",
        "conn = sqlite3.connect('data_clean.db')\n",
        "clean_df.to_sql('clean_table', conn, if_exists='replace', index=False)\n",
        "print(\"✅ تم تخزين البيانات في قاعدة SQLite باسم data_clean.db ✓\")\n",
        "conn.close()"
      ]
    }
  ]
}
